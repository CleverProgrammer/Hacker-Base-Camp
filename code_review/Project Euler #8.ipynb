{
 "cells": [
  {
   "cell_type": "markdown",
   "metadata": {},
   "source": [
    "# Project Euler Problem #8\n",
    "\n",
    "Find the greatest product of K consecutive digits in the N digit number.\n",
    "\n",
    "Input Format \n",
    "First line contains T that denotes the number of test cases. \n",
    "First line of each test case will contain two integers N & K.\n",
    "Second line of each test case will contain a N digit integer. \n",
    "\n",
    "Output Format \n",
    "Print the required answer for each test case.\n",
    "\n",
    "Constraints \n",
    "1≤T≤100 \n",
    "1≤K≤7 \n",
    "K≤N≤1000\n",
    "\n",
    "##Let's take a sample solution to this problem"
   ]
  },
  {
   "cell_type": "code",
   "execution_count": 1,
   "metadata": {
    "collapsed": true
   },
   "outputs": [],
   "source": [
    "def largest_consecutive_product(n, k):\n",
    "    product_list = []\n",
    "    tmp = 1\n",
    "    start_idx = 0\n",
    "    end_idx = k\n",
    "    for number in n:\n",
    "        if len(n) - start_idx < k:\n",
    "            break\n",
    "        for num in n[start_idx:end_idx]:\n",
    "            tmp *= int(num)\n",
    "        product_list.append(tmp)\n",
    "        tmp = 1\n",
    "        start_idx += 1\n",
    "        end_idx += 1\n",
    "    return max(product_list)"
   ]
  },
  {
   "cell_type": "code",
   "execution_count": 39,
   "metadata": {
    "collapsed": false
   },
   "outputs": [
    {
     "data": {
      "text/plain": [
       "125406234494160076800"
      ]
     },
     "execution_count": 39,
     "metadata": {},
     "output_type": "execute_result"
    }
   ],
   "source": [
    "import random\n",
    "number_to_test = ''.join([str(random.randint(0,10)) for _ in range(1000)])\n",
    "largest_consecutive_product(number_to_test, 25)"
   ]
  },
  {
   "cell_type": "markdown",
   "metadata": {},
   "source": [
    "Let's review the solution above and make changes one by one to it to make it more readable and more Pythonic.\n",
    "\n",
    "Notice that this solution maintains temporary variables start_idx and end_idx. These are used to keep track of our location in the array, and we manually increment them. Python provides a handy enumerate function to solve this problem automatically.\n",
    "\n",
    "The above code could more concisely be written like this:"
   ]
  },
  {
   "cell_type": "code",
   "execution_count": 42,
   "metadata": {
    "collapsed": true
   },
   "outputs": [],
   "source": [
    "def largest_consecutive_product(n, k):\n",
    "    product_list = []\n",
    "    tmp = 1\n",
    "    start_idx = 0\n",
    "    end_idx = k\n",
    "    # I've added the enumerate function to count up the index automatically.\n",
    "    for start_idx, number in enumerate(n):\n",
    "        print(start_idx)\n",
    "        if len(n) - start_idx < k:\n",
    "            break\n",
    "        for num in n[start_idx:end_idx]:\n",
    "            tmp *= int(num)\n",
    "        product_list.append(tmp)\n",
    "        tmp = 1\n",
    "        #start_idx += 1  We can comment this out since enumerate takes care of incrementing automatically\n",
    "        end_idx += 1\n",
    "    return max(product_list)"
   ]
  },
  {
   "cell_type": "markdown",
   "metadata": {},
   "source": [
    "Next let's get rid of the end_idx variable. Afterall, it will always be equal to start_idx + k. Let's not trobule the programmer with remembering how the end_idx variable is initialized and figuring how what it does"
   ]
  },
  {
   "cell_type": "code",
   "execution_count": 47,
   "metadata": {
    "collapsed": false
   },
   "outputs": [],
   "source": [
    "def largest_consecutive_product(n, k):\n",
    "    product_list = []\n",
    "    tmp = 1\n",
    "    start_idx = 0\n",
    "    # end_idx = k  We will no longer use this variable\n",
    "    for start_idx, number in enumerate(n):\n",
    "        if len(n) - start_idx < k:\n",
    "            break\n",
    "        #for num in n[start_idx:end_idx]: Let's replace end_idx with its logical equivalent, start_idx + k\n",
    "        for num in n[start_idx:start_idx + k]:\n",
    "            tmp *= int(num)\n",
    "        product_list.append(tmp)\n",
    "        tmp = 1\n",
    "        # end_idx += 1  We no longer need to increment the variable since we deleted it\n",
    "    return max(product_list)"
   ]
  },
  {
   "cell_type": "markdown",
   "metadata": {},
   "source": [
    "Now let's handle the biggest problem with this code. Currently, memory is O(N). This means that as n increases by 1, memory usage in the system increases proportionally. The reason for this property is because every time we loop through an addition digit of n, we append a product to product_list. product_list grows in size as the program runs, gradually increasing the program's memory footprint until it ends. We can solve this problem by only storing the largest product at any given time."
   ]
  },
  {
   "cell_type": "code",
   "execution_count": 50,
   "metadata": {
    "collapsed": true
   },
   "outputs": [],
   "source": [
    "def largest_consecutive_product(n, k):\n",
    "    # product_list = []  We are no longer going to need to store every product\n",
    "    max_product = 0     # Let's instead store a single product here\n",
    "    tmp = 1\n",
    "    start_idx = 0\n",
    "    for start_idx, number in enumerate(n):\n",
    "        if len(n) - start_idx < k:\n",
    "            break\n",
    "        for num in n[start_idx:start_idx + k]:\n",
    "            tmp *= int(num)\n",
    "        # This line ensures that if a calculated product ever exceeds max_product, then that calculated product becomes\n",
    "        # the new max_product\n",
    "        if tmp > max_product:\n",
    "            max_product = tmp\n",
    "        # product_list.append(tmp) We don't need to hang onto these anymore because of the above line\n",
    "        tmp = 1\n",
    "    # return max(product_list) \n",
    "    # max() would normally need to iterate over all of product_list to find its max value. \n",
    "    # Not only that, this cost is not constant but actually increases linearly with the size of the inputted n.\n",
    "    # This means that we incidentally made our faster as well as more memory efficieny.\n",
    "    return max_product"
   ]
  },
  {
   "cell_type": "markdown",
   "metadata": {},
   "source": [
    "Let's now focus on making the code a little more conscice. I see two easy wins. First off, the inner loop can be collapased into a reduce function."
   ]
  },
  {
   "cell_type": "code",
   "execution_count": 60,
   "metadata": {
    "collapsed": false
   },
   "outputs": [],
   "source": [
    "from functools import reduce\n",
    "import operator\n",
    "\n",
    "def largest_consecutive_product(n, k):\n",
    "    max_product = 0\n",
    "    # tmp = 1  This variable actually doesn't need to be initialized at all\n",
    "    start_idx = 0\n",
    "    for start_idx, number in enumerate(n):\n",
    "        if len(n) - start_idx < k:\n",
    "            break\n",
    "        tmp = reduce(operator.mul, map(int, n[start_idx:start_idx + k]))\n",
    "        if tmp > max_product:\n",
    "            max_product = tmp\n",
    "        # tmp = 1 And we also don't need to reset it to one every iteration either since it is never multiplied by\n",
    "        #         itself using a *= operation anymore.\n",
    "    return max_product"
   ]
  },
  {
   "cell_type": "markdown",
   "metadata": {},
   "source": [
    "What the heck did I just do???\n",
    "        \n",
    "    tmp = reduce(operator.mul, map(int, n[start_idx:start_idx + k]))\n",
    "    \n",
    "The map part of the function executes first and says turn every string chatacter of the slice of n into an intger. Then the reduce function executes, multiplying ever integer digit returned from the map function by eachother."
   ]
  },
  {
   "cell_type": "markdown",
   "metadata": {},
   "source": [
    "Aside from the various PEP8 errors, this code is starting to look better. We could get rid of the if/break statements and subsume them into a for loop over a more precise range, but I want to consider a sightly different problem. We've ignore the fact that this code can be made A LOT faster. There is an algorithmically more efficieny way to solve the problem.\n",
    "\n",
    "Currently, our solution is O(K * (N - K)). I'll go over how we derive this function in a moment. For now, note that as N increases, the runtime of the program increases. Similarly, as K increases, at laest to a certain point, the runtime of the program increases. Let's model how K affects the runtime of the program for a constant N of 1000."
   ]
  },
  {
   "cell_type": "markdown",
   "metadata": {},
   "source": []
  }
 ],
 "metadata": {
  "kernelspec": {
   "display_name": "Python 3",
   "language": "python",
   "name": "python3"
  },
  "language_info": {
   "codemirror_mode": {
    "name": "ipython",
    "version": 3
   },
   "file_extension": ".py",
   "mimetype": "text/x-python",
   "name": "python",
   "nbconvert_exporter": "python",
   "pygments_lexer": "ipython3",
   "version": "3.4.1"
  }
 },
 "nbformat": 4,
 "nbformat_minor": 0
}
