{
 "cells": [
  {
   "cell_type": "markdown",
   "metadata": {},
   "source": [
    "# Rafeh's Copy for Going Reviewing Nick's Code Review"
   ]
  },
  {
   "cell_type": "markdown",
   "metadata": {},
   "source": [
    "# Project Euler Problem #8\n",
    "\n",
    "Find the greatest product of K consecutive digits in the N digit number.\n",
    "\n",
    "Input Format \n",
    "First line contains T that denotes the number of test cases. \n",
    "First line of each test case will contain two integers N & K.\n",
    "Second line of each test case will contain a N digit integer. \n",
    "\n",
    "Output Format \n",
    "Print the required answer for each test case.\n",
    "\n",
    "Constraints \n",
    "1≤T≤100 \n",
    "1≤K≤7 \n",
    "K≤N≤1000\n",
    "\n",
    "##Let's take a sample solution to this problem"
   ]
  },
  {
   "cell_type": "code",
   "execution_count": 2,
   "metadata": {
    "collapsed": true
   },
   "outputs": [],
   "source": [
    "def largest_consecutive_product(n, k):\n",
    "    product_list = []\n",
    "    tmp = 1\n",
    "    start_idx = 0\n",
    "    end_idx = k\n",
    "    for number in n:\n",
    "        if len(n) - start_idx < k:\n",
    "            break\n",
    "        for num in n[start_idx:end_idx]:\n",
    "            tmp *= int(num)\n",
    "        product_list.append(tmp)\n",
    "        tmp = 1\n",
    "        start_idx += 1\n",
    "        end_idx += 1\n",
    "    return max(product_list)"
   ]
  },
  {
   "cell_type": "markdown",
   "metadata": {},
   "source": [
    "### Qazi: Can you please describe this 3 line code below?"
   ]
  },
  {
   "cell_type": "code",
   "execution_count": 3,
   "metadata": {
    "collapsed": false
   },
   "outputs": [
    {
     "data": {
      "text/plain": [
       "0"
      ]
     },
     "execution_count": 3,
     "metadata": {},
     "output_type": "execute_result"
    }
   ],
   "source": [
    "import random\n",
    "number_to_test = ''.join([str(random.randint(0,10)) for _ in range(1000)])\n",
    "largest_consecutive_product(number_to_test, 25)"
   ]
  },
  {
   "cell_type": "markdown",
   "metadata": {},
   "source": [
    "Let's review the solution above and make changes one by one to it to make it more readable and more Pythonic.\n",
    "\n",
    "Notice that this solution maintains temporary variables **start_idx** and **end_idx**. These are used to keep track of our location in the array, and we manually increment them. Python provides a handy **enumerate** function to solve this problem automatically.\n",
    "\n",
    "The above code could more concisely be written like this:"
   ]
  },
  {
   "cell_type": "code",
   "execution_count": null,
   "metadata": {
    "collapsed": true
   },
   "outputs": [],
   "source": [
    "def largest_consecutive_product(n, k):\n",
    "    product_list = []\n",
    "    tmp = 1\n",
    "    start_idx = 0\n",
    "    end_idx = k\n",
    "    # I've added the enumerate function to count up the index automatically.\n",
    "    for start_idx, number in enumerate(n):\n",
    "        print(start_idx)\n",
    "        if len(n) - start_idx < k:\n",
    "            break\n",
    "        for num in n[start_idx:end_idx]:\n",
    "            tmp *= int(num)\n",
    "        product_list.append(tmp)\n",
    "        tmp = 1\n",
    "        #start_idx += 1  We can comment this out since enumerate takes care of incrementing automatically\n",
    "        end_idx += 1\n",
    "    return max(product_list)"
   ]
  },
  {
   "cell_type": "markdown",
   "metadata": {},
   "source": [
    "**Qazi: WOW this is so nicely done. SO easy for me to tell what things I did wrong and what I should have done instead**\n"
   ]
  },
  {
   "cell_type": "markdown",
   "metadata": {},
   "source": [
    "Next let's get rid of the end_idx variable. Afterall, it will always be equal to start_idx + k. Let's not trobule the programmer with remembering how the end_idx variable is initialized and figuring how what it does"
   ]
  },
  {
   "cell_type": "code",
   "execution_count": null,
   "metadata": {
    "collapsed": false
   },
   "outputs": [],
   "source": [
    "def largest_consecutive_product(n, k):\n",
    "    product_list = []\n",
    "    tmp = 1\n",
    "    start_idx = 0\n",
    "    # end_idx = k  We will no longer use this variable\n",
    "    for start_idx, number in enumerate(n):\n",
    "        if len(n) - start_idx < k:\n",
    "            break\n",
    "        #for num in n[start_idx:end_idx]: Let's replace end_idx with its logical equivalent, start_idx + k\n",
    "        for num in n[start_idx:start_idx + k]:\n",
    "            tmp *= int(num)\n",
    "        product_list.append(tmp)\n",
    "        tmp = 1\n",
    "        # end_idx += 1  We no longer need to increment the variable since we deleted it\n",
    "    return max(product_list)"
   ]
  },
  {
   "cell_type": "markdown",
   "metadata": {},
   "source": [
    "Now let's handle the biggest problem with this code. Currently, memory is O(N). This means that as n increases by 1, memory usage in the system increases proportionally. The reason for this property is because every time we loop through an addition digit of n, we append a product to product_list. product_list grows in size as the program runs, gradually increasing the program's memory footprint until it ends. We can solve this problem by only storing the largest product at any given time."
   ]
  },
  {
   "cell_type": "code",
   "execution_count": 2,
   "metadata": {
    "collapsed": true
   },
   "outputs": [],
   "source": [
    "def largest_consecutive_product(n, k):\n",
    "    # product_list = []  We are no longer going to need to store every product\n",
    "    max_product = 0     # Let's instead store a single product here\n",
    "    tmp = 1\n",
    "    start_idx = 0\n",
    "    for start_idx, number in enumerate(n):\n",
    "        if len(n) - start_idx < k:\n",
    "            break\n",
    "        for num in n[start_idx:start_idx + k]:\n",
    "            tmp *= int(num)\n",
    "        # This line ensures that if a calculated product ever exceeds max_product, then that calculated product becomes\n",
    "        # the new max_product\n",
    "        if tmp > max_product:\n",
    "            max_product = tmp\n",
    "        # product_list.append(tmp) We don't need to hang onto these anymore because of the above line\n",
    "        tmp = 1\n",
    "    # return max(product_list) \n",
    "    # max() would normally need to iterate over all of product_list to find its max value. \n",
    "    # Not only that, this cost is not constant but actually increases linearly with the size of the inputted n.\n",
    "    # This means that we incidentally made our faster as well as more memory efficieny.\n",
    "    return max_product"
   ]
  },
  {
   "cell_type": "markdown",
   "metadata": {},
   "source": [
    "**Qazi: I love how my actual code snippet is commented out and then your code is added there with comments. It is SUCH a nice way of doing it. Yeah you are right, I don't need to store products that are NOT the largest. Yeah at that point I didn't remember that trick you showed me with always replacing current value with the new MAX value.**"
   ]
  },
  {
   "cell_type": "markdown",
   "metadata": {},
   "source": [
    "Let's now focus on making the code a little more conscice. I see two easy wins. First off, the inner loop can be collapased into a reduce function."
   ]
  },
  {
   "cell_type": "code",
   "execution_count": 1,
   "metadata": {
    "collapsed": false
   },
   "outputs": [],
   "source": [
    "from functools import reduce\n",
    "import operator\n",
    "\n",
    "def largest_consecutive_product(n, k):\n",
    "    max_product = 0\n",
    "    # tmp = 1  This variable actually doesn't need to be initialized at all\n",
    "    start_idx = 0\n",
    "    for start_idx, number in enumerate(n):\n",
    "        if len(n) - start_idx < k:\n",
    "            break\n",
    "        tmp = reduce(operator.mul, map(int, n[start_idx:start_idx + k]))\n",
    "        if tmp > max_product:\n",
    "            max_product = tmp\n",
    "        # tmp = 1 And we also don't need to reset it to one every iteration either since it is never multiplied by\n",
    "        #         itself using a *= operation anymore.\n",
    "    return max_product"
   ]
  },
  {
   "cell_type": "markdown",
   "metadata": {},
   "source": [
    "**Qazi: LOL!!! That was literally my question... WHAT THE HECK DID YOU JUST DO!?? Without even reading your explanation below this, here is what I understand from the tmp variable. You map int to every block of number you loop over. I assume operator.mul is some kind of multiplication function. I am totally unfamiliar with functools and/or the reduce function. Also, I am unfamiliar with the operator module. **\n",
    "\n",
    "**Okay so... I think I am getting closer in my understanding. I think what happens after map(int) stuff gets simplified is that you get a list looking kind of like [1,2,3] some numbers. Then the multiplication function gets called over each due to reduce(operator.mul, [1,2,3]). It has a built in `__iter__` mechanism that is probably able to do that. Moving along in my hypothesis, I believe that reduce(operator.mul, [1,2,3]) does it's magic iterating over the list and multiplying like `1*2*3` and storing the computed result into tmp. **\n",
    "\n",
    "*My question is: \"How does the reduce function reduce the number of loops since it inherently must me looping through to do the computation...? Just like the max function is still looping through trying to find the max. Is it just visually reducing the loop you mean? Though I do briefly know that functools, and operator modules are somewhat more efficient*\n",
    "\n",
    "**I am now going to read your explanation.**"
   ]
  },
  {
   "cell_type": "markdown",
   "metadata": {},
   "source": [
    "What the heck did I just do???\n",
    "        \n",
    "    tmp = reduce(operator.mul, map(int, n[start_idx:start_idx + k]))\n",
    "    \n",
    "The map part of the function executes first and says turn every string chatacter of the slice of n into an intger. Then the reduce function executes, multiplying ever integer digit returned from the map function by eachother."
   ]
  },
  {
   "cell_type": "markdown",
   "metadata": {},
   "source": [
    "Aside from the various PEP8 errors, this code is starting to look better. We could get rid of the if/break statements and subsume them into a for loop over a more precise range, but I want to consider a sightly different problem. We've ignore the fact that this code can be made A LOT faster. There is an algorithmically more efficieny way to solve the problem.\n",
    "\n",
    "Currently, our solution is O(K * (N - K)). I'll go over how we derive this function in a moment. For now, note that as N increases, the runtime of the program increases. Similarly, as K increases, at least to a certain point, the runtime of the program increases. You can prove this to yourself by asking how many times the inner loop (subsumed into a reduce statement in the most recent refactoring) will run for a given K and N. Notice that as K increases, so do iterations through the inner loop. Let's model how K affects the runtime of the program for a constant N of 1000."
   ]
  },
  {
   "cell_type": "code",
   "execution_count": 16,
   "metadata": {
    "collapsed": false
   },
   "outputs": [],
   "source": [
    "from matplotlib import pyplot\n",
    "import time\n",
    "import random\n",
    "number_to_test = ''.join([str(random.randint(0,10)) for _ in range(1000)])\n",
    "times = []\n",
    "\n",
    "# first argument is the code to be run, the second \"setup\" argument is only run once,\n",
    "# and it not included in the execution time.\n",
    "\n",
    "for k in range(1, 1001):\n",
    "    start = time.time()\n",
    "    largest_consecutive_product(number_to_test, k)\n",
    "    times.append(time.time() - start)\n",
    "    \n",
    "pyplot.plot(range(1, 1001), times)\n",
    "pyplot.xlabel('K')\n",
    "pyplot.ylabel('Time To Compute Function')\n",
    "pyplot.show()"
   ]
  },
  {
   "cell_type": "markdown",
   "metadata": {},
   "source": [
    "**Qazi: Your x and y labels are not showing. How long did this shit take to run? Cause holy crap number_to_test is a GIANT number**"
   ]
  },
  {
   "cell_type": "markdown",
   "metadata": {},
   "source": [
    "<img src=\"project_euler_vary_k.png\">"
   ]
  },
  {
   "cell_type": "markdown",
   "metadata": {},
   "source": [
    "**Qazi: I am really confused. How is it start computing faster at the end? It starts fast then gets slow in 400-600 range but then 800-1000 it becomes fast again. From what you have said so far you have made it seem like a linear growth and I do not see that here? Is this saying that as the values increasing the function gets faster???**"
   ]
  },
  {
   "cell_type": "markdown",
   "metadata": {
    "collapsed": false
   },
   "source": [
    "Sure enough, we see prediction was correct. Ignoring the outliers, which are likely due to variable scheduling of system computational resources, as the value of K increases, so does the time necessary to compute largest_consecutive_product. Let's take a detour to understand how we determined the runtime complexity of the algorithm before continuing.\n",
    "\n",
    "In general, runtime complexity asks how much work is the computer doing for a set of inputs. In the algorithm above, let's pretend that all the work is done in the inner loop when we do our multiplications. Let's answer the question: for a given N and K, how many multiplications will there be? Assuming multiplication was all the work the processor did, an answer to this question would tell us how hard the processor was working.\n",
    "\n",
    "I can tell you right off the bat that for every N value we test, we run through the inner loop K times. So the complexity looks something like this:\n",
    "\n",
    "So when N = 1, we have K multiplications\n",
    "when N = 2, we have K multiplications\n",
    "and when N = N, we have K multiplications\n",
    "\n",
    "You can summarize this by saying that there are N * K multiplications. So then why isn't the running time of the algorithm O(N * K). Well, the answer is that there aren't N * K multiplications, not because the above logic is wrong, but because we don't go through the outer loop N times. Notice the statement \n",
    "\n",
    "    if len(n) - start_idx < k\n",
    "    \n",
    "We exit the outer loop early depending on how large K is! You can work out yourself that we actually only run through the outer loop N - K times. This means that the running time of our algorithm isn't `O(N * K)` but is actually `O((N - K) * K)`\n",
    "\n",
    "Let's focus out attention back to the graph above. We see something peculiar... Once K passes a certain threshold, which we will calculate to be K = 500 in a moment, the runtime of the program actually decreases. The reason for this is that although the inner loop runs more times as K increases, the outer loop actually runs fewer times. This is because the outer loop actually ends at N - K, not at N.\n",
    "\n",
    "I'll admit that I actually expected the computation time when K=1 and when K=1000 to be the same. I don't know why the latter takes longer.\n",
    "\n",
    "So let's do a little math. Above, we have a function that describes the runtime of this algorithm. Using that equation, we can actually compute the value for N when the computation time is maximum. If you remember back to your calculus class, a derivative desribes the rate of change of a curve. In our case, the derivative of `O(K * (N - K))` with respect to K produces a function that describes how computational intensity varies as K varies.\n",
    "\n",
    "    K * (N - K) = K*N - K^2\n",
    "    (K*N - K^2) dK = N - 2K\n",
    "    \n",
    "So we can plug in a given N to understand how computational intensity varies for a particualr N value. Let's use 1000 as we did above.\n",
    "\n",
    "    f(K) = 1000 - 2K\n",
    " \n",
    "If we set this function to 0, we can see we can find where the rate of change of computational intensity stops changing. In other words, we can find the maximum point of the curve, an equation that describes where the system is working the hardest.\n",
    "\n",
    "    0 = 1000 - 2K\n",
    "    1000 = 2K\n",
    "    K = 500\n",
    "    \n",
    "Sure enough, this math matches what we see in the above curve. The curve plateaus as K reaches 500 and then begins leveling off. So only one question remains, can we do better? Do we need an algorithm that runs O(K * (N - K)), or can we do it in O(N). The answer is that we can do it in O(N).\n"
   ]
  },
  {
   "cell_type": "markdown",
   "metadata": {
    "collapsed": true
   },
   "source": [
    "**Qazi: HOLY SHIT. THE CALCULUS DERIVATION YOU WENT OFF DUDE. OH MY GOD. THIS WAS LIKE THE BEST USE OF CALCULUS/PROGRAMMING AND BRINGING IT ALL TOGETHER. Sorry I am going to stop using all caps now. There is a lot I still need to understand. I am going to go over some of this with you. There are some things that are a little hard for me to grasp. Also, I have spent the last like 3 hours going over this, I need to get back to my Coursera Course. I appreciate this SO MUCH you have no idea. Specially bringing mathematics together while enhancing my understand of algorithms, data structures, and specific pointers on coding technqiues. This is priceless information. Signing off for now 4:30 am**"
   ]
  },
  {
   "cell_type": "code",
   "execution_count": null,
   "metadata": {
    "collapsed": true
   },
   "outputs": [],
   "source": []
  },
  {
   "cell_type": "code",
   "execution_count": null,
   "metadata": {
    "collapsed": true
   },
   "outputs": [],
   "source": []
  }
 ],
 "metadata": {
  "kernelspec": {
   "display_name": "Python 3",
   "language": "python",
   "name": "python3"
  },
  "language_info": {
   "codemirror_mode": {
    "name": "ipython",
    "version": 3
   },
   "file_extension": ".py",
   "mimetype": "text/x-python",
   "name": "python",
   "nbconvert_exporter": "python",
   "pygments_lexer": "ipython3",
   "version": "3.4.3"
  }
 },
 "nbformat": 4,
 "nbformat_minor": 0
}
