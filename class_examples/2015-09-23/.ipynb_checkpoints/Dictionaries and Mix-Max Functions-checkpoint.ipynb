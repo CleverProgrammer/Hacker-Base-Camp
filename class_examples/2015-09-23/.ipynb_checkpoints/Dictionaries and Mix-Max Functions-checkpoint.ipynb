{
 "cells": [
  {
   "cell_type": "markdown",
   "metadata": {},
   "source": [
    "#Problem 1: Efficiently Reversing Dictionaries\n",
    "\n",
    "Given the following dictionary, reverse it and then calculate the minimum and maximum values for each key/value pair in the dictionary.\n",
    "\n",
    "    dict_to_reverse = {'Nick': 5,\n",
    "     \t\t\t\t\t'Qazi': 103,\n",
    "     \t\t\t\t\t'Tenzin': 2003,\n",
    "     \t\t\t\t\t'Colin': 132\n",
    "\t     \t\t\t    }"
   ]
  },
  {
   "cell_type": "code",
   "execution_count": 7,
   "metadata": {
    "collapsed": true
   },
   "outputs": [],
   "source": [
    "dict_to_reverse = {'Nick': 5,\n",
    "                   'Qazi': 103,\n",
    "                   'Tenzin': 2003,\n",
    "                   'Colin': 132\n",
    "                   }"
   ]
  },
  {
   "cell_type": "code",
   "execution_count": 8,
   "metadata": {
    "collapsed": false
   },
   "outputs": [
    {
     "data": {
      "text/plain": [
       "{5: 'Nick', 103: 'Qazi', 132: 'Colin', 2003: 'Tenzin'}"
      ]
     },
     "execution_count": 8,
     "metadata": {},
     "output_type": "execute_result"
    }
   ],
   "source": [
    "# Create a function that reverses a dictionary for us\n",
    "reverse_dict = lambda x: dict(zip(dict_to_reverse.values(), dict_to_reverse.keys()))\n",
    "\n",
    "reverse_dict(dict_to_reverse)"
   ]
  },
  {
   "cell_type": "code",
   "execution_count": 9,
   "metadata": {
    "collapsed": false
   },
   "outputs": [
    {
     "ename": "ValueError",
     "evalue": "min() arg is an empty sequence",
     "output_type": "error",
     "traceback": [
      "\u001b[0;31m---------------------------------------------------------------------------\u001b[0m",
      "\u001b[0;31mValueError\u001b[0m                                Traceback (most recent call last)",
      "\u001b[0;32m<ipython-input-9-03e56df44bee>\u001b[0m in \u001b[0;36m<module>\u001b[0;34m()\u001b[0m\n\u001b[1;32m      1\u001b[0m \u001b[0;31m# Note that we were unable to do something like this.\u001b[0m\u001b[0;34m\u001b[0m\u001b[0;34m\u001b[0m\u001b[0m\n\u001b[0;32m----> 2\u001b[0;31m \u001b[0mprint\u001b[0m \u001b[0;34m(\u001b[0m\u001b[0;34m\"The minimum value is: \"\u001b[0m\u001b[0;34m,\u001b[0m \u001b[0mmin\u001b[0m\u001b[0;34m(\u001b[0m\u001b[0mreversed_dict\u001b[0m\u001b[0;34m)\u001b[0m\u001b[0;34m)\u001b[0m\u001b[0;34m\u001b[0m\u001b[0m\n\u001b[0m\u001b[1;32m      3\u001b[0m \u001b[0mprint\u001b[0m \u001b[0;34m(\u001b[0m\u001b[0;34m\"The maximum value is: \"\u001b[0m\u001b[0;34m,\u001b[0m \u001b[0mmax\u001b[0m\u001b[0;34m(\u001b[0m\u001b[0mreversed_dict\u001b[0m\u001b[0;34m)\u001b[0m\u001b[0;34m)\u001b[0m\u001b[0;34m\u001b[0m\u001b[0m\n",
      "\u001b[0;31mValueError\u001b[0m: min() arg is an empty sequence"
     ]
    }
   ],
   "source": [
    "# Note that we were unable to do something like this.\n",
    "print (\"The minimum value is: \", min(reversed_dict))\n",
    "print (\"The maximum value is: \", max(reversed_dict))"
   ]
  },
  {
   "cell_type": "markdown",
   "metadata": {},
   "source": [
    "Zip returns an iterator, and like all iterators, this one can only be consumed a single time. This is why the first operation over the iterator (min) works but max does not. Let's instead call the reverse_dict function every time we call the min and max functions."
   ]
  },
  {
   "cell_type": "code",
   "execution_count": 10,
   "metadata": {
    "collapsed": false
   },
   "outputs": [
    {
     "name": "stdout",
     "output_type": "stream",
     "text": [
      "The minimum value is:  (5, 'Nick')\n",
      "The maximum value is:  (2003, 'Tenzin')\n"
     ]
    }
   ],
   "source": [
    "\n",
    "print (\"The minimum value is: \", min(reverse_dict(dict_to_reverse)))\n",
    "print (\"The maximum value is: \", max(reverse_dict(dict_to_reverse)))"
   ]
  },
  {
   "cell_type": "code",
   "execution_count": null,
   "metadata": {
    "collapsed": true
   },
   "outputs": [],
   "source": []
  }
 ],
 "metadata": {
  "kernelspec": {
   "display_name": "Python 3",
   "language": "python",
   "name": "python3"
  },
  "language_info": {
   "codemirror_mode": {
    "name": "ipython",
    "version": 3
   },
   "file_extension": ".py",
   "mimetype": "text/x-python",
   "name": "python",
   "nbconvert_exporter": "python",
   "pygments_lexer": "ipython3",
   "version": "3.4.1"
  }
 },
 "nbformat": 4,
 "nbformat_minor": 0
}
